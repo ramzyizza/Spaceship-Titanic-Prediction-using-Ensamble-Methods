{
  "nbformat": 4,
  "nbformat_minor": 0,
  "metadata": {
    "colab": {
      "provenance": []
    },
    "kernelspec": {
      "name": "python3",
      "display_name": "Python 3"
    },
    "language_info": {
      "name": "python"
    }
  },
  "cells": [
    {
      "cell_type": "code",
      "execution_count": null,
      "metadata": {
        "id": "KAl7X7bC7OSs"
      },
      "outputs": [],
      "source": [
        "import numpy as np\n",
        "import pandas as pd\n",
        "\n",
        "train = pd.read_csv('train_preprocessed.csv')\n",
        "test = pd.read_csv('test_preprocessed.csv')"
      ]
    },
    {
      "cell_type": "code",
      "source": [
        "train.isnull().sum()"
      ],
      "metadata": {
        "colab": {
          "base_uri": "https://localhost:8080/"
        },
        "id": "v-L0mv_TD_O4",
        "outputId": "d975bfb1-67ae-4711-ed58-d2f89608aa1a"
      },
      "execution_count": null,
      "outputs": [
        {
          "output_type": "execute_result",
          "data": {
            "text/plain": [
              "Unnamed: 0        0\n",
              "HomePlanet      201\n",
              "CryoSleep       217\n",
              "Destination     182\n",
              "Age             179\n",
              "VIP             203\n",
              "RoomService     181\n",
              "FoodCourt       183\n",
              "ShoppingMall    208\n",
              "Spa             183\n",
              "VRDeck          188\n",
              "Transported       0\n",
              "Group             0\n",
              "Person            0\n",
              "FirstName       200\n",
              "LastName        200\n",
              "Cabin1          199\n",
              "Cabin2          199\n",
              "Cabin3          199\n",
              "dtype: int64"
            ]
          },
          "metadata": {},
          "execution_count": 62
        }
      ]
    },
    {
      "cell_type": "code",
      "source": [
        "test.isnull().sum()"
      ],
      "metadata": {
        "colab": {
          "base_uri": "https://localhost:8080/"
        },
        "id": "RmfZ1XD4EIKw",
        "outputId": "4e02c188-b038-43e7-9fae-d74592a23650"
      },
      "execution_count": null,
      "outputs": [
        {
          "output_type": "execute_result",
          "data": {
            "text/plain": [
              "Unnamed: 0        0\n",
              "HomePlanet       87\n",
              "CryoSleep        93\n",
              "Destination      92\n",
              "Age              91\n",
              "VIP              93\n",
              "RoomService      82\n",
              "FoodCourt       106\n",
              "ShoppingMall     98\n",
              "Spa             101\n",
              "VRDeck           80\n",
              "Group             0\n",
              "Person            0\n",
              "FirstName        94\n",
              "LastName         94\n",
              "Cabin1          100\n",
              "Cabin2          100\n",
              "Cabin3          100\n",
              "dtype: int64"
            ]
          },
          "metadata": {},
          "execution_count": 63
        }
      ]
    },
    {
      "cell_type": "code",
      "source": [
        "df = [train, test]\n",
        "\n",
        "for i in df:\n",
        "  i.drop(columns = ['Unnamed: 0', 'FirstName', 'LastName', 'Group'], axis = 1, inplace = True)"
      ],
      "metadata": {
        "id": "2jgHdkN2G8Cg"
      },
      "execution_count": null,
      "outputs": []
    },
    {
      "cell_type": "markdown",
      "source": [
        "##**Remove Missing Values and Feature Encoding**##"
      ],
      "metadata": {
        "id": "3kZD6fayCcaK"
      }
    },
    {
      "cell_type": "code",
      "source": [
        "numeric_balanced = ['Age']\n",
        "numeric_unbalanced = ['RoomService', 'FoodCourt', 'ShoppingMall', 'Spa', 'VRDeck']\n",
        "numeric = numeric_unbalanced\n",
        "numeric.append(numeric_balanced)\n",
        "nominal = ['HomePlanet', 'Destination']\n",
        "ordinal = ['CryoSleep', 'VIP', 'Cabin1', 'Cabin2', 'Cabin3', 'Person']"
      ],
      "metadata": {
        "id": "D5yUH-HtCgsi"
      },
      "execution_count": null,
      "outputs": []
    },
    {
      "cell_type": "code",
      "source": [
        "!pip install missingpy\n",
        "!pip install miceforest"
      ],
      "metadata": {
        "id": "8e6t0gyXOu45",
        "colab": {
          "base_uri": "https://localhost:8080/"
        },
        "outputId": "f1b5bb38-9612-4288-b838-dd7e70240270"
      },
      "execution_count": null,
      "outputs": [
        {
          "output_type": "stream",
          "name": "stdout",
          "text": [
            "Looking in indexes: https://pypi.org/simple, https://us-python.pkg.dev/colab-wheels/public/simple/\n",
            "Requirement already satisfied: missingpy in /usr/local/lib/python3.10/dist-packages (0.2.0)\n",
            "Looking in indexes: https://pypi.org/simple, https://us-python.pkg.dev/colab-wheels/public/simple/\n",
            "Requirement already satisfied: miceforest in /usr/local/lib/python3.10/dist-packages (5.6.3)\n",
            "Requirement already satisfied: lightgbm>=3.3.1 in /usr/local/lib/python3.10/dist-packages (from miceforest) (3.3.5)\n",
            "Requirement already satisfied: numpy in /usr/local/lib/python3.10/dist-packages (from miceforest) (1.22.4)\n",
            "Requirement already satisfied: blosc in /usr/local/lib/python3.10/dist-packages (from miceforest) (1.11.1)\n",
            "Requirement already satisfied: dill in /usr/local/lib/python3.10/dist-packages (from miceforest) (0.3.6)\n",
            "Requirement already satisfied: wheel in /usr/local/lib/python3.10/dist-packages (from lightgbm>=3.3.1->miceforest) (0.40.0)\n",
            "Requirement already satisfied: scipy in /usr/local/lib/python3.10/dist-packages (from lightgbm>=3.3.1->miceforest) (1.10.1)\n",
            "Requirement already satisfied: scikit-learn!=0.22.0 in /usr/local/lib/python3.10/dist-packages (from lightgbm>=3.3.1->miceforest) (1.2.2)\n",
            "Requirement already satisfied: joblib>=1.1.1 in /usr/local/lib/python3.10/dist-packages (from scikit-learn!=0.22.0->lightgbm>=3.3.1->miceforest) (1.2.0)\n",
            "Requirement already satisfied: threadpoolctl>=2.0.0 in /usr/local/lib/python3.10/dist-packages (from scikit-learn!=0.22.0->lightgbm>=3.3.1->miceforest) (3.1.0)\n"
          ]
        }
      ]
    },
    {
      "cell_type": "code",
      "source": [
        "#filling numerical features with its median and mean\n",
        "#for i in df:\n",
        "  #for p in numeric_balanced:\n",
        "    #i[p].fillna(i[p].mean(), inplace = True)\n",
        "\n",
        "  #for q in numeric_unbalanced:\n",
        "    #i[q].fillna(i[q].median(), inplace = True)"
      ],
      "metadata": {
        "id": "0rrFYDTxIjrH"
      },
      "execution_count": null,
      "outputs": []
    },
    {
      "cell_type": "code",
      "source": [
        "homeplanet_train = pd.get_dummies(train['HomePlanet'])\n",
        "homeplanet_test = pd.get_dummies(test['HomePlanet'])\n",
        "dest_train = pd.get_dummies(train['Destination'])\n",
        "dest_test = pd.get_dummies(test['Destination'])"
      ],
      "metadata": {
        "id": "rO5VQj4MMRWB"
      },
      "execution_count": null,
      "outputs": []
    },
    {
      "cell_type": "code",
      "source": [
        "from sklearn.preprocessing import LabelEncoder\n",
        "\n",
        "label_encoder = LabelEncoder()\n",
        "\n",
        "for i in df:\n",
        "  for j in ordinal:\n",
        "    i[j] = label_encoder.fit_transform(i[j])"
      ],
      "metadata": {
        "id": "7AuZqh9oP3rR"
      },
      "execution_count": null,
      "outputs": []
    },
    {
      "cell_type": "code",
      "source": [
        "train = pd.concat([train, homeplanet_train, dest_train], axis=1)\n",
        "test = pd.concat([test, homeplanet_test, dest_test], axis=1)\n",
        "\n",
        "categoric = nominal\n",
        "categoric.append(ordinal)\n",
        "\n",
        "train.drop(columns = ['HomePlanet', 'CryoSleep', 'Destination','VIP', 'Cabin1', 'Cabin2', 'Cabin3', 'Person'], axis=1, inplace = True)\n",
        "test.drop(columns = ['HomePlanet', 'CryoSleep', 'Destination','VIP', 'Cabin1', 'Cabin2', 'Cabin3', 'Person'], axis=1, inplace = True)"
      ],
      "metadata": {
        "id": "AJBhCvo7R5Hb"
      },
      "execution_count": null,
      "outputs": []
    },
    {
      "cell_type": "code",
      "source": [
        "a = train.columns\n",
        "b = test.columns"
      ],
      "metadata": {
        "id": "z2fR0LruU-In"
      },
      "execution_count": null,
      "outputs": []
    },
    {
      "cell_type": "code",
      "source": [
        "import sklearn.neighbors._base\n",
        "import miceforest as mf\n",
        "import sys\n",
        "from sklearn.impute import KNNImputer\n",
        "\n",
        "imputer = KNNImputer()\n",
        "\n",
        "train = imputer.fit_transform(train)\n",
        "test = imputer.fit_transform(test)"
      ],
      "metadata": {
        "id": "fYYy0whVT_X9"
      },
      "execution_count": null,
      "outputs": []
    },
    {
      "cell_type": "code",
      "source": [
        "train = pd.DataFrame(train)\n",
        "test = pd.DataFrame(test)\n",
        "train.set_axis(a, axis = 1, inplace = True)\n",
        "test.set_axis(b, axis = 1, inplace = True)"
      ],
      "metadata": {
        "colab": {
          "base_uri": "https://localhost:8080/"
        },
        "id": "U6FQRbxLUhKL",
        "outputId": "670e93a6-d15d-477b-80fd-17c4ba295221"
      },
      "execution_count": null,
      "outputs": [
        {
          "output_type": "stream",
          "name": "stderr",
          "text": [
            "<ipython-input-73-e810a06480fc>:3: FutureWarning: DataFrame.set_axis 'inplace' keyword is deprecated and will be removed in a future version. Use `obj = obj.set_axis(..., copy=False)` instead\n",
            "  train.set_axis(a, axis = 1, inplace = True)\n",
            "<ipython-input-73-e810a06480fc>:4: FutureWarning: DataFrame.set_axis 'inplace' keyword is deprecated and will be removed in a future version. Use `obj = obj.set_axis(..., copy=False)` instead\n",
            "  test.set_axis(b, axis = 1, inplace = True)\n"
          ]
        }
      ]
    },
    {
      "cell_type": "markdown",
      "source": [
        "##**Feature Scaling and Remove Outliers**##"
      ],
      "metadata": {
        "id": "l_heB5HDFjn4"
      }
    },
    {
      "cell_type": "code",
      "source": [
        "for j in numeric_unbalanced:\n",
        "  train[j] = np.sqrt(train[j])\n",
        "  test[j] = np.sqrt(test[j])"
      ],
      "metadata": {
        "id": "9lWwxQKrzrD8"
      },
      "execution_count": null,
      "outputs": []
    },
    {
      "cell_type": "code",
      "source": [
        "from sklearn.preprocessing import RobustScaler\n",
        "\n",
        "df = [train, test]\n",
        "\n",
        "model = RobustScaler()\n",
        "for i in df:\n",
        "  i = model.fit_transform(i)"
      ],
      "metadata": {
        "id": "X8Y5jZQzFmgw"
      },
      "execution_count": null,
      "outputs": []
    },
    {
      "cell_type": "code",
      "source": [
        "train.to_csv('train_finals_knn.csv')\n",
        "test.to_csv('test_finals_knn.csv')"
      ],
      "metadata": {
        "id": "aUPottV3iSYN"
      },
      "execution_count": null,
      "outputs": []
    }
  ]
}