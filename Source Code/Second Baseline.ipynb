{
  "nbformat": 4,
  "nbformat_minor": 0,
  "metadata": {
    "colab": {
      "provenance": []
    },
    "kernelspec": {
      "name": "python3",
      "display_name": "Python 3"
    },
    "language_info": {
      "name": "python"
    }
  },
  "cells": [
    {
      "cell_type": "code",
      "execution_count": null,
      "metadata": {
        "id": "T8YiTySd7s53"
      },
      "outputs": [],
      "source": [
        "import numpy as np\n",
        "import pandas as pd\n",
        "\n",
        "train = pd.read_csv('train_finals_knn.csv')\n",
        "test = pd.read_csv('test_finals_knn.csv')"
      ]
    },
    {
      "cell_type": "code",
      "source": [
        "df = [train, test]\n",
        "for i in df:\n",
        "  i.drop(['Unnamed: 0'], axis = 1, inplace = True)"
      ],
      "metadata": {
        "id": "Buu5f9LljSu2"
      },
      "execution_count": null,
      "outputs": []
    },
    {
      "cell_type": "code",
      "source": [
        "X = train.drop(['Transported'], axis = 1)\n",
        "y = train['Transported']\n",
        "X_test = test"
      ],
      "metadata": {
        "id": "wQ_eLXj7jVEv"
      },
      "execution_count": null,
      "outputs": []
    },
    {
      "cell_type": "code",
      "source": [
        "from sklearn.model_selection import train_test_split\n",
        "\n",
        "X_train, X_valid, y_train, y_valid = train_test_split(X,y , random_state=104, train_size=0.8, shuffle=True)"
      ],
      "metadata": {
        "id": "f1k9JKtkjXJ-"
      },
      "execution_count": null,
      "outputs": []
    },
    {
      "cell_type": "markdown",
      "source": [
        "##**Modelling**##"
      ],
      "metadata": {
        "id": "NeZBdbjbkZC4"
      }
    },
    {
      "cell_type": "markdown",
      "source": [
        "**Logistic Regression**"
      ],
      "metadata": {
        "id": "HJQCEqrXkkAe"
      }
    },
    {
      "cell_type": "code",
      "source": [
        "from sklearn.linear_model import LogisticRegression\n",
        "from sklearn.metrics import accuracy_score\n",
        "\n",
        "model = LogisticRegression()\n",
        "model.fit(X_train, y_train)\n",
        "y_pred = model.predict(X_valid)\n",
        "print('Accuracy Score = ', accuracy_score(y_pred, y_valid))"
      ],
      "metadata": {
        "colab": {
          "base_uri": "https://localhost:8080/"
        },
        "id": "gZGCsC1_kadI",
        "outputId": "4ecbfffb-15ac-4ff4-e1b9-f0bf940a97b7"
      },
      "execution_count": null,
      "outputs": [
        {
          "output_type": "stream",
          "name": "stdout",
          "text": [
            "Accuracy Score =  0.7855089131684876\n"
          ]
        },
        {
          "output_type": "stream",
          "name": "stderr",
          "text": [
            "/usr/local/lib/python3.10/dist-packages/sklearn/linear_model/_logistic.py:458: ConvergenceWarning: lbfgs failed to converge (status=1):\n",
            "STOP: TOTAL NO. of ITERATIONS REACHED LIMIT.\n",
            "\n",
            "Increase the number of iterations (max_iter) or scale the data as shown in:\n",
            "    https://scikit-learn.org/stable/modules/preprocessing.html\n",
            "Please also refer to the documentation for alternative solver options:\n",
            "    https://scikit-learn.org/stable/modules/linear_model.html#logistic-regression\n",
            "  n_iter_i = _check_optimize_result(\n"
          ]
        }
      ]
    },
    {
      "cell_type": "markdown",
      "source": [
        "**KNN**"
      ],
      "metadata": {
        "id": "F658fswykmE_"
      }
    },
    {
      "cell_type": "code",
      "source": [
        "from sklearn.neighbors import KNeighborsClassifier\n",
        "\n",
        "model = KNeighborsClassifier()\n",
        "model.fit(X_train, y_train)\n",
        "y_pred = model.predict(X_valid)\n",
        "print('Accuracy Score = ', accuracy_score(y_pred, y_valid))"
      ],
      "metadata": {
        "colab": {
          "base_uri": "https://localhost:8080/"
        },
        "id": "BsPXuDZQkn3E",
        "outputId": "05944792-e0c8-4899-9e0e-6c15acbb8d42"
      },
      "execution_count": null,
      "outputs": [
        {
          "output_type": "stream",
          "name": "stdout",
          "text": [
            "Accuracy Score =  0.7717078780908568\n"
          ]
        }
      ]
    },
    {
      "cell_type": "markdown",
      "source": [
        "**Support Vector Machine**"
      ],
      "metadata": {
        "id": "NrhtltM9bggD"
      }
    },
    {
      "cell_type": "code",
      "source": [
        "from sklearn import svm\n",
        "\n",
        "model = svm.SVC()\n",
        "model.fit(X_train, y_train)\n",
        "y_pred = model.predict(X_valid)\n",
        "print('Accuracy Score = ', accuracy_score(y_pred, y_valid))"
      ],
      "metadata": {
        "colab": {
          "base_uri": "https://localhost:8080/"
        },
        "id": "uLean1t1bi_Z",
        "outputId": "5773a829-d827-43a7-f37e-16c35a14901d"
      },
      "execution_count": null,
      "outputs": [
        {
          "output_type": "stream",
          "name": "stdout",
          "text": [
            "Accuracy Score =  0.7952846463484762\n"
          ]
        }
      ]
    },
    {
      "cell_type": "markdown",
      "source": [
        "**AdaBoost**"
      ],
      "metadata": {
        "id": "P2Q0FcA3lDBF"
      }
    },
    {
      "cell_type": "code",
      "source": [
        "from sklearn.ensemble import AdaBoostClassifier\n",
        "\n",
        "model = AdaBoostClassifier(n_estimators=100, random_state=0)\n",
        "model.fit(X_train, y_train)\n",
        "y_pred = model.predict(X_valid)\n",
        "print('Accuracy Score = ', accuracy_score(y_pred, y_valid))"
      ],
      "metadata": {
        "colab": {
          "base_uri": "https://localhost:8080/"
        },
        "id": "qgSq27kQlEUr",
        "outputId": "e17b8c7a-7495-4f9d-a389-4132e0847b39"
      },
      "execution_count": null,
      "outputs": [
        {
          "output_type": "stream",
          "name": "stdout",
          "text": [
            "Accuracy Score =  0.7878090856814262\n"
          ]
        }
      ]
    },
    {
      "cell_type": "markdown",
      "source": [
        "**Random Forest**"
      ],
      "metadata": {
        "id": "HPhw3Xj0k8Cd"
      }
    },
    {
      "cell_type": "code",
      "source": [
        "from sklearn.ensemble import RandomForestClassifier\n",
        "\n",
        "model = RandomForestClassifier()\n",
        "model.fit(X_train, y_train)\n",
        "y_pred = model.predict(X_valid)\n",
        "print('Accuracy Score = ', accuracy_score(y_pred, y_valid))"
      ],
      "metadata": {
        "colab": {
          "base_uri": "https://localhost:8080/"
        },
        "id": "sbABAHkck9gP",
        "outputId": "2b9c46e4-2d8e-43c7-b357-3a11fa55c782"
      },
      "execution_count": null,
      "outputs": [
        {
          "output_type": "stream",
          "name": "stdout",
          "text": [
            "Accuracy Score =  0.7866589994249569\n"
          ]
        }
      ]
    },
    {
      "cell_type": "markdown",
      "source": [
        "**LightGBM**"
      ],
      "metadata": {
        "id": "Si-e-PN_kqCJ"
      }
    },
    {
      "cell_type": "code",
      "source": [
        "from lightgbm import LGBMClassifier\n",
        "\n",
        "model = LGBMClassifier()\n",
        "model.fit(X_train, y_train)\n",
        "y_pred = model.predict(X_valid)\n",
        "print('Accuracy Score = ', accuracy_score(y_pred, y_valid))"
      ],
      "metadata": {
        "colab": {
          "base_uri": "https://localhost:8080/"
        },
        "id": "Xkr2qzFuksV_",
        "outputId": "411c674a-69ef-4175-8c8e-009e192d78a2"
      },
      "execution_count": null,
      "outputs": [
        {
          "output_type": "stream",
          "name": "stdout",
          "text": [
            "Accuracy Score =  0.7906843013225991\n"
          ]
        }
      ]
    },
    {
      "cell_type": "markdown",
      "source": [
        "**XGBoost**"
      ],
      "metadata": {
        "id": "dSGzWo-Tksxp"
      }
    },
    {
      "cell_type": "code",
      "source": [
        "!pip install xgboost\n",
        "from xgboost import XGBClassifier\n",
        "\n",
        "model = XGBClassifier(early_stopping=False,\n",
        "                               l2_regularization=13.899123839488654,\n",
        "                               learning_rate=0.021061811419531614, max_depth=4,\n",
        "                               max_iter=1000, max_leaf_nodes=64,\n",
        "                               min_samples_leaf=46)\n",
        "model.fit(X_train, y_train)\n",
        "y_pred = model.predict(X_valid)\n",
        "print('Accuracy Score = ', accuracy_score(y_pred, y_valid))"
      ],
      "metadata": {
        "colab": {
          "base_uri": "https://localhost:8080/"
        },
        "id": "uzFJpWAJkuKM",
        "outputId": "5adb7ed7-fa9e-4d2d-f701-441b81f8cd48"
      },
      "execution_count": null,
      "outputs": [
        {
          "output_type": "stream",
          "name": "stdout",
          "text": [
            "Looking in indexes: https://pypi.org/simple, https://us-python.pkg.dev/colab-wheels/public/simple/\n",
            "Requirement already satisfied: xgboost in /usr/local/lib/python3.10/dist-packages (1.7.5)\n",
            "Requirement already satisfied: numpy in /usr/local/lib/python3.10/dist-packages (from xgboost) (1.22.4)\n",
            "Requirement already satisfied: scipy in /usr/local/lib/python3.10/dist-packages (from xgboost) (1.10.1)\n",
            "[01:09:55] WARNING: ../src/learner.cc:767: \n",
            "Parameters: { \"early_stopping\", \"l2_regularization\", \"max_iter\", \"max_leaf_nodes\", \"min_samples_leaf\" } are not used.\n",
            "\n",
            "Accuracy Score =  0.7941345600920069\n"
          ]
        }
      ]
    },
    {
      "cell_type": "markdown",
      "source": [
        "**HistGradientBoosting**"
      ],
      "metadata": {
        "id": "hMG3OIbQk_rS"
      }
    },
    {
      "cell_type": "code",
      "source": [
        "from sklearn.ensemble import HistGradientBoostingClassifier\n",
        "\n",
        "model = HistGradientBoostingClassifier()\n",
        "model.fit(X_train, y_train)\n",
        "y_pred = model.predict(X_valid)\n",
        "print(\"Accuracy: \", accuracy_score(y_valid, y_pred))"
      ],
      "metadata": {
        "colab": {
          "base_uri": "https://localhost:8080/"
        },
        "id": "PUnbCI1qlByF",
        "outputId": "848d284a-ba2b-4de8-f733-4ae0a8232953"
      },
      "execution_count": null,
      "outputs": [
        {
          "output_type": "stream",
          "name": "stdout",
          "text": [
            "Accuracy:  0.7872340425531915\n"
          ]
        }
      ]
    },
    {
      "cell_type": "markdown",
      "source": [
        "**CatBoostClassifier**"
      ],
      "metadata": {
        "id": "oOGuUpobojq4"
      }
    },
    {
      "cell_type": "code",
      "source": [
        "#!pip install catboost\n",
        "#from catboost import CatBoostClassifier\n",
        "\n",
        "#model = CatBoostClassifier()\n",
        "#model.fit(X_train, y_train)\n",
        "#y_pred = model.predict(X_valid)\n",
        "#y_valid = y_valid.astype('str')\n",
        "#print('Accuracy Score = ', accuracy_score(y_pred, y_valid))"
      ],
      "metadata": {
        "id": "SYiE2W_VojJk"
      },
      "execution_count": null,
      "outputs": []
    },
    {
      "cell_type": "markdown",
      "source": [
        "**Stacking Classifier**"
      ],
      "metadata": {
        "id": "fQFAjDq5qLYK"
      }
    },
    {
      "cell_type": "code",
      "source": [
        "from sklearn.ensemble import StackingClassifier\n",
        "\n",
        "model1 = XGBClassifier(colsample_bytree = 0.6,\n",
        "                       gamma = 1.5, max_depth = 4,\n",
        "                       min_child_weight = 1, subsample = 1.0)\n",
        "#model2 = HistGradientBoostingClassifier()\n",
        "model3 = LGBMClassifier()\n",
        "model = StackingClassifier(estimators=[('lr', model1), ('lgb', model3)])\n",
        "model.fit(X_train, y_train)\n",
        "y_pred = model.predict(X_valid)\n",
        "print(\"Accuracy: \", accuracy_score(y_pred, y_valid))"
      ],
      "metadata": {
        "colab": {
          "base_uri": "https://localhost:8080/"
        },
        "id": "3FZPQA1pqNAs",
        "outputId": "e87b44cd-e6a5-4a9a-e3a2-ae75420dbb85"
      },
      "execution_count": null,
      "outputs": [
        {
          "output_type": "stream",
          "name": "stdout",
          "text": [
            "Accuracy:  0.7981598619896493\n"
          ]
        }
      ]
    },
    {
      "cell_type": "markdown",
      "source": [
        "**Voting Classifier**"
      ],
      "metadata": {
        "id": "fF_gV_i5qNaa"
      }
    },
    {
      "cell_type": "code",
      "source": [
        "from sklearn.ensemble import VotingClassifier\n",
        "\n",
        "model1 = XGBClassifier(colsample_bytree = 0.6,\n",
        "                       gamma = 1.5, max_depth = 4,\n",
        "                       min_child_weight = 1, subsample = 1.0)\n",
        "model2 = HistGradientBoostingClassifier()\n",
        "model3 = LGBMClassifier()\n",
        "model = VotingClassifier(estimators=[('lr', model1), ('rf', model2), ('lgb', model3)], voting = 'hard')\n",
        "model.fit(X_train, y_train)\n",
        "y_pred = model.predict(X_valid)\n",
        "print(\"Accuracy: \", accuracy_score(y_pred, y_valid))"
      ],
      "metadata": {
        "colab": {
          "base_uri": "https://localhost:8080/"
        },
        "id": "mhZ0YK-dqO4M",
        "outputId": "f6348608-fa79-4dcb-db1d-5286db066acf"
      },
      "execution_count": null,
      "outputs": [
        {
          "output_type": "stream",
          "name": "stdout",
          "text": [
            "Accuracy:  0.7912593444508338\n"
          ]
        }
      ]
    },
    {
      "cell_type": "markdown",
      "source": [
        "##**Hyperparameter Tuning**##"
      ],
      "metadata": {
        "id": "HSBJuH3wr7wp"
      }
    },
    {
      "cell_type": "markdown",
      "source": [
        "**Light GBM**"
      ],
      "metadata": {
        "id": "59pBAlhiRVm4"
      }
    },
    {
      "cell_type": "code",
      "source": [
        "from sklearn.model_selection import GridSearchCV\n",
        "import time\n",
        "\n",
        "start = time.time()\n",
        "gridParams = {\n",
        "    'learning_rate': [0.005, 0.01],\n",
        "    'n_estimators': [8,16,24],\n",
        "    'num_leaves': [6,8,12,16], # large num_leaves helps improve accuracy but might lead to over-fitting\n",
        "    'boosting_type' : ['gbdt', 'dart'], # for better accuracy -> try dart\n",
        "    'objective' : ['binary'],\n",
        "    'max_bin':[255, 510], # large max_bin helps improve accuracy but might slow down training progress\n",
        "    'random_state' : [500],\n",
        "    'colsample_bytree' : [0.64, 0.65, 0.66],\n",
        "    'subsample' : [0.7,0.75],\n",
        "    'reg_alpha' : [1,1.2],\n",
        "    'reg_lambda' : [1,1.2,1.4],\n",
        "    }\n",
        "\n",
        "grid = GridSearchCV(LGBMClassifier(), gridParams, verbose=1, cv=4, n_jobs=-1)\n",
        "Run the grid\n",
        "grid.fit(X, y)\n",
        "\n",
        "Print the best parameters found\n",
        "print(grid.best_params_)\n",
        "print(grid.best_score_)\n",
        "end = time.time()\n",
        "print('Elapsed Time: ', end-start)"
      ],
      "metadata": {
        "id": "z4P31azvsEEV"
      },
      "execution_count": null,
      "outputs": []
    },
    {
      "cell_type": "markdown",
      "source": [
        "**XGBoost**"
      ],
      "metadata": {
        "id": "5avCT8fWRW9I"
      }
    },
    {
      "cell_type": "code",
      "source": [
        "start = time.time()\n",
        "\n",
        "params = {\n",
        "        'min_child_weight': [1, 5, 10],\n",
        "        'gamma': [0.5, 1, 1.5, 2, 5],\n",
        "        'subsample': [0.6, 0.8, 1.0],\n",
        "        'colsample_bytree': [0.6, 0.8, 1.0],\n",
        "        'max_depth': [3, 4, 5]\n",
        "        }\n",
        "\n",
        "grid = GridSearchCV(XGBClassifier(), gridParams, verbose=1, cv=4, n_jobs=-1)\n",
        "Run the grid\n",
        "grid.fit(X, y)\n",
        "\n",
        "Print the best parameters found\n",
        "print(grid.best_params_)\n",
        "print(grid.best_score_)\n",
        "end = time.time()\n",
        "print('Elapsed Time: ', end-start)"
      ],
      "metadata": {
        "id": "eiMVp8ThRZV8"
      },
      "execution_count": null,
      "outputs": []
    },
    {
      "cell_type": "markdown",
      "source": [
        "##**Feature Importance**##"
      ],
      "metadata": {
        "id": "mhOBygpTsEjb"
      }
    },
    {
      "cell_type": "code",
      "source": [
        "from sklearn.inspection import permutation_importance\n",
        "import matplotlib.pyplot as plt\n",
        "\n",
        "model1 = XGBClassifier(colsample_bytree = 0.6,\n",
        "                       gamma = 1.5, max_depth = 4,\n",
        "                       min_child_weight = 1, subsample = 1.0)\n",
        "#model2 = HistGradientBoostingClassifier()\n",
        "model3 = LGBMClassifier()\n",
        "model = StackingClassifier(estimators=[('lr', model1), ('lgb', model3)])\n",
        "model.fit(X, y)\n",
        "\n",
        "result = permutation_importance(\n",
        "    model, X, y, n_repeats=10, random_state=42, n_jobs=2)"
      ],
      "metadata": {
        "id": "cKcc0skgsGzF"
      },
      "execution_count": null,
      "outputs": []
    },
    {
      "cell_type": "code",
      "source": [
        "feature_names = X.columns\n",
        "forest_importances = pd.Series(result.importances_mean, index=feature_names).sort_values(ascending=True)\n",
        "fig, ax = plt.subplots()\n",
        "forest_importances.plot.bar(yerr=result.importances_std, ax=ax)\n",
        "ax.set_title(\"Feature importances using permutation on full model\")\n",
        "ax.set_ylabel(\"Mean accuracy decrease\")\n",
        "fig.tight_layout()\n",
        "plt.show()"
      ],
      "metadata": {
        "id": "2FCgBNyjRnCB",
        "colab": {
          "base_uri": "https://localhost:8080/",
          "height": 487
        },
        "outputId": "19561e21-efc7-43c6-f74c-8d92e2dcfa6f"
      },
      "execution_count": null,
      "outputs": [
        {
          "output_type": "display_data",
          "data": {
            "text/plain": [
              "<Figure size 640x480 with 1 Axes>"
            ],
            "image/png": "[encoded data removed]"
          },
          "metadata": {}
        }
      ]
    },
    {
      "cell_type": "markdown",
      "source": [
        "##**Visualizations**##"
      ],
      "metadata": {
        "id": "IAegxlGusHY8"
      }
    },
    {
      "cell_type": "code",
      "source": [
        "import seaborn as sns\n",
        "from sklearn.metrics import confusion_matrix\n",
        "\n",
        "model1 = XGBClassifier(colsample_bytree = 0.6,\n",
        "                       gamma = 1.5, max_depth = 4,\n",
        "                       min_child_weight = 1, subsample = 1.0)\n",
        "#model2 = HistGradientBoostingClassifier()\n",
        "model3 = LGBMClassifier()\n",
        "model = StackingClassifier(estimators=[('lr', model1), ('lgb', model3)])\n",
        "model.fit(X_train, y_train)\n",
        "y_pred = model.predict(X_valid)\n",
        "cf_matrix = confusion_matrix(y_valid, y_pred)\n",
        "plt.title('Confusion Matrix')\n",
        "sns.heatmap(cf_matrix/np.sum(cf_matrix), annot=True, fmt='.2%', cmap='Blues')"
      ],
      "metadata": {
        "id": "VZs1c1oEsSQh",
        "colab": {
          "base_uri": "https://localhost:8080/",
          "height": 470
        },
        "outputId": "ad12a19b-70eb-4a12-acfd-1f81b9c30840"
      },
      "execution_count": null,
      "outputs": [
        {
          "output_type": "execute_result",
          "data": {
            "text/plain": [
              "<Axes: title={'center': 'Confusion Matrix'}>"
            ]
          },
          "metadata": {},
          "execution_count": 100
        },
        {
          "output_type": "display_data",
          "data": {
            "text/plain": [
              "<Figure size 640x480 with 2 Axes>"
            ],
            "image/png": "[encoded data removed]"
          },
          "metadata": {}
        }
      ]
    },
    {
      "cell_type": "markdown",
      "source": [
        "##**Submission to CSV**##"
      ],
      "metadata": {
        "id": "bzZEyipfsUmB"
      }
    },
    {
      "cell_type": "code",
      "source": [
        "#testt = pd.read_csv('test.csv')\n",
        "#testt"
      ],
      "metadata": {
        "id": "hJhJ27OxsWZV"
      },
      "execution_count": null,
      "outputs": []
    },
    {
      "cell_type": "code",
      "source": [
        "#index = testt['PassengerId']"
      ],
      "metadata": {
        "id": "E6Sy8wpZwEiV"
      },
      "execution_count": null,
      "outputs": []
    },
    {
      "cell_type": "code",
      "source": [
        "#from sklearn.ensemble import StackingClassifier\n",
        "\n",
        "#model1 = XGBClassifier()\n",
        "#model2 = HistGradientBoostingClassifier()\n",
        "#model3 = LGBMClassifier()\n",
        "#model = StackingClassifier(estimators=[('lr', model1), ('lgb', model3)])\n",
        "#model.fit(X, y)\n",
        "#y_pred = model.predict(X_test)"
      ],
      "metadata": {
        "id": "ZXqhaZQ8wQVn"
      },
      "execution_count": null,
      "outputs": []
    },
    {
      "cell_type": "code",
      "source": [
        "#submit = pd.DataFrame()\n",
        "#submit['PassengerId'] = index\n",
        "#submit['Transported'] = y_pred\n",
        "#submit.to_csv('submit_kenyot_enak.csv', index = False)"
      ],
      "metadata": {
        "id": "CpvEFtC0wzAn"
      },
      "execution_count": null,
      "outputs": []
    }
  ]
}